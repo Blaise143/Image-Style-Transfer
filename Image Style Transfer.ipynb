{
 "cells": [
  {
   "cell_type": "markdown",
   "metadata": {},
   "source": [
    "## Style Transfer Using Discrete Optimization\n",
    "\n",
    "### Summary Statement\n",
    "In this notebook, I propose a way to generate art through style transfer by using a discrete optimization technique. \n",
    "***\n",
    "\n",
    "### Background\n",
    "Deep learning has been a very fast-growing field of computer science in recent years. Within deep learning, computer vision has seen the most advanced progresses. One of the most interesting ways in which computer vision is used is generating art through what is known as `Neural Style Transfer`.\n",
    "Neural style transfer is a process in which the style of one image is applied to another image to generate a new image by the use of neural networks. It makes it possible for some artists, or just machine learning enthusiasts, to combine the best aspects of multiple images, creating a single image that contains the contents of one image and the style of another.\n",
    "\n",
    "The picture below briefly shows the whole idea of Neural Style Transfer.\n",
    "\n",
    "\n",
    "<img src=\"Image/cat_Neural.jpeg\" style = \"height:400px\">\n",
    "\n",
    "As we can see, The cat in this case is the content image, and the art paintings are the style images. The generated image retains the image of the cat and has the style of the style images. \n",
    "\n",
    "***\n",
    "### My Proposed Approach \n",
    "\n",
    "For the approach that I am proposing to (hopefully) work, there needs to be one condition. The content and style images should have the same dimensionality.Now let's get to the approach proposal. \n",
    "\n",
    "Note that an image is computationally just a matrix with values ranging from $0$ to $255$. My aproach relies on the concept of `\"distance\"` between two matrices. Given two matrices with the same dimensionality, we can map every pixel(entry) from first image(matrix) to a corresponding pixel(entry) on the other image(matrix). For two corresponding pixels, I define the distance between the pixels as the absolute value of their differences. Hence, The distance between two matrices is the sum of all differences of every two corresponding entries of the matrices. \n",
    "\n",
    "**Below is the algorithm I propose:**\n",
    "1. Obtain content image and style image (reshape them if they dont have the same dimensionality)\n",
    "2. Rearrange the pixels of the style image such that the distance between the matrices is minimized\n",
    "3. Add the two matrices together element-wise to create a new matrix \n",
    "4. Divide all entries of the new matrix by 2 to ensure that the entries range from $0$ to $255$\n",
    "5. obtain an image from the matrix\n",
    "\n",
    "In my thought process, the new image should have the structure of content image since the arrangement of the pixels in the content image was not altered. However, some style of the style image will be spread across the image. \n",
    "***\n",
    "\n",
    "**Minimizing The Distance Between Two Matrices**\n",
    "\n",
    "Since this is a very crucial step in my algorithm, I implemented it in python.\n",
    "\n",
    "The function takes in two arguments namely `first_array` and `sec_array`. The first argument is the array belonging to the flattened matrix of the content image. The second argument is the flattened array of the matrix belonging to style image. The idea is to minimize the distances of these two 1-d arrays and then reshape them into the original dimensions of the matrices. The implementation of the minimization works as follows:\n",
    "1. Calculate the difference between each element of the first array to the elements of the second array\n",
    "2. Append the tuples of the difference and the item closes to each element in first array to variable `new_list`\n",
    "3. create a copy of the `sec_array` to avoid overriding values in memory\n",
    "4. append the elements closest to the elements `first_array` into the variable `final_list` while keeping track of whether or not the element was already claimed used.\n",
    "\n",
    "The function returns the rearranged array of the `sec_array` with the minimal distance.\n",
    "Below is the code for this."
   ]
  },
  {
   "cell_type": "code",
   "execution_count": 8,
   "metadata": {
    "ExecuteTime": {
     "end_time": "2022-12-12T05:31:35.670447Z",
     "start_time": "2022-12-12T05:31:32.108499Z"
    }
   },
   "outputs": [],
   "source": [
    "import operator\n",
    "import copy\n",
    "import matplotlib.pyplot as plt\n",
    "import numpy as np\n",
    "\n",
    "\n",
    "def minimize_distance(first_array: list, sec_array: list) -> list:\n",
    "    \"\"\"\n",
    "    Rearranges sec_array such that the pair wise distance is minimized\n",
    "    :param first_array: flattened original image\n",
    "    :param sec_array: style of second image\n",
    "    :return: a rearranged sec_array\n",
    "    \"\"\"\n",
    "    assert len(first_array) == len(sec_array), \"The length of the arrays should be similar.\"\n",
    "    new_list = []\n",
    "    for element in first_array:\n",
    "        distances = []\n",
    "        for item in sec_array:\n",
    "            diff = abs(element - item)\n",
    "            distances.append((diff, item))\n",
    "        distances = sorted(distances, key=operator.itemgetter(0), reverse=False)\n",
    "        new_list.append(distances)\n",
    "\n",
    "    final_list = []\n",
    "    sec_array_copy = copy.deepcopy(sec_array)\n",
    "    for lst in new_list:\n",
    "        for _, num in lst:\n",
    "            if num in sec_array_copy:\n",
    "                final_list.append(num)\n",
    "                sec_array_copy.remove(num)\n",
    "    return final_list"
   ]
  },
  {
   "cell_type": "markdown",
   "metadata": {},
   "source": [
    "### Cons of this implementation\n",
    "\n",
    "Unfortunately, the implementation I was able to formulate has a runtime of $O(n^2)$. This is not a good runtime for large vectors. I tried running it on some images. The images I tried on were of shape (1024, 720, 3). \n",
    "\n",
    "This means when flattened into a vector, the number of items elements would be $720*1024*3 = 2211840$\n",
    "Therefore, in $O(n^2)$ runtime, the number of computations would be at least $2211840^2$ which is a lot for my computer. \n",
    "\n",
    "There should be a way to improve this implementation and I hopefully will figure it out.\n",
    "\n",
    "**THANK YOU FOR CHECKING OUT MY NOTEBOOK**"
   ]
  }
 ],
 "metadata": {
  "kernelspec": {
   "display_name": "Python 3 (ipykernel)",
   "language": "python",
   "name": "python3"
  },
  "language_info": {
   "codemirror_mode": {
    "name": "ipython",
    "version": 3
   },
   "file_extension": ".py",
   "mimetype": "text/x-python",
   "name": "python",
   "nbconvert_exporter": "python",
   "pygments_lexer": "ipython3",
   "version": "3.9.7"
  }
 },
 "nbformat": 4,
 "nbformat_minor": 1
}
